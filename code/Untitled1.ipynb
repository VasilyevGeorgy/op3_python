{
 "cells": [
  {
   "cell_type": "code",
   "execution_count": 1,
   "metadata": {},
   "outputs": [],
   "source": [
    "import numpy as np\n",
    "import pandas as pd"
   ]
  },
  {
   "cell_type": "code",
   "execution_count": 78,
   "metadata": {},
   "outputs": [
    {
     "name": "stdout",
     "output_type": "stream",
     "text": [
      "   PassengerID                                           Name PClass    Age  \\\n",
      "0            1                   Allen, Miss Elisabeth Walton    1st  29.00   \n",
      "1            2                    Allison, Miss Helen Loraine    1st   2.00   \n",
      "2            3            Allison, Mr Hudson Joshua Creighton    1st  30.00   \n",
      "3            4  Allison, Mrs Hudson JC (Bessie Waldo Daniels)    1st  25.00   \n",
      "4            5                  Allison, Master Hudson Trevor    1st   0.92   \n",
      "\n",
      "      Sex  Survived  SexCode  \n",
      "0  female         1        1  \n",
      "1  female         0        1  \n",
      "2    male         0        0  \n",
      "3  female         0        1  \n",
      "4    male         1        0  \n"
     ]
    },
    {
     "data": {
      "text/plain": [
       "<pandas.core.groupby.generic.DataFrameGroupBy object at 0x7fdaba092b00>"
      ]
     },
     "execution_count": 78,
     "metadata": {},
     "output_type": "execute_result"
    }
   ],
   "source": [
    "tit_df = pd.read_csv(\"/home/gera/titanic/titanic1.csv\")\n",
    "print(tit_df.head())\n",
    "df = tit_df.groupby([\"Sex\", \"Survived\"])\n",
    "df\n",
    "#print(len(tit_df))\n",
    "#tit_df[\"PClass\"].count()"
   ]
  },
  {
   "cell_type": "code",
   "execution_count": 24,
   "metadata": {},
   "outputs": [
    {
     "name": "stdout",
     "output_type": "stream",
     "text": [
      "a    1\n",
      "b    2\n",
      "dtype: int64\n"
     ]
    }
   ],
   "source": [
    "ser = pd.Series([1,2,3,4,5], index=['a','b','c','d','e'])\n",
    "#print(ser)\n",
    "b = 'b'\n",
    "print(ser[:-3])"
   ]
  },
  {
   "cell_type": "code",
   "execution_count": 45,
   "metadata": {},
   "outputs": [
    {
     "name": "stdout",
     "output_type": "stream",
     "text": [
      "   one   two\n",
      "a  1.0   4.0\n",
      "b  2.0   6.0\n",
      "c  3.0   NaN\n",
      "d  NaN  50.0\n",
      "//////////////\n",
      "a    1.0\n",
      "b    2.0\n",
      "c    3.0\n",
      "d    NaN\n",
      "Name: one, dtype: float64\n"
     ]
    }
   ],
   "source": [
    "#data = [1,2,3,4,5]\n",
    "#df0 = pd.DataFrame(data, columns=['c'])\n",
    "#data1 = [['Alex', 21], ['Alexandra', 23], ['George', 24]] \n",
    "#df1 = pd.DataFrame(data1, columns=['Name', 'Age'])\n",
    "#df1\n",
    "#dic_ = {'Num':[1,2,3,4,5]}\n",
    "#dic_['Num'][4]\n",
    "dic_ = {'one':pd.Series([1,2,3], index=['a','b','c']),\n",
    "           'two':pd.Series([4,6,50], index=['a','b','d'])}\n",
    "df0 = pd.DataFrame(dic_)\n",
    "print(df0)\n",
    "print('//////////////')\n",
    "print(df0['one'])"
   ]
  },
  {
   "cell_type": "code",
   "execution_count": null,
   "metadata": {},
   "outputs": [],
   "source": []
  }
 ],
 "metadata": {
  "kernelspec": {
   "display_name": "Python 3",
   "language": "python",
   "name": "python3"
  },
  "language_info": {
   "codemirror_mode": {
    "name": "ipython",
    "version": 3
   },
   "file_extension": ".py",
   "mimetype": "text/x-python",
   "name": "python",
   "nbconvert_exporter": "python",
   "pygments_lexer": "ipython3",
   "version": "3.5.2"
  }
 },
 "nbformat": 4,
 "nbformat_minor": 2
}
